{
 "cells": [
  {
   "cell_type": "code",
   "execution_count": 17,
   "id": "6c61650a-1b15-4618-9272-f0fb2d19bacb",
   "metadata": {},
   "outputs": [],
   "source": [
    "import pandas as pd\n",
    "import numpy as np"
   ]
  },
  {
   "cell_type": "code",
   "execution_count": 18,
   "id": "d8501996-517c-4e30-a705-9b479e1f708a",
   "metadata": {},
   "outputs": [],
   "source": [
    "df = pd.read_csv('netflix_titles.csv')"
   ]
  },
  {
   "cell_type": "code",
   "execution_count": 19,
   "id": "ef6d202a-88f9-469b-8d3a-8d755241a43c",
   "metadata": {},
   "outputs": [],
   "source": [
    "#get all the unique ratings\n",
    "total_ratings = df['rating'].unique()"
   ]
  },
  {
   "cell_type": "code",
   "execution_count": 20,
   "id": "79648382-9dbe-4319-a4ac-fa19179dbdb2",
   "metadata": {},
   "outputs": [],
   "source": [
    "shape = df.shape"
   ]
  },
  {
   "cell_type": "code",
   "execution_count": 21,
   "id": "326610a7-3c10-4869-89b0-917a6a7dbec9",
   "metadata": {},
   "outputs": [],
   "source": [
    "#incorrect readings array\n",
    "incorr_rating = ['74 min', '84 min', '66 min']"
   ]
  },
  {
   "cell_type": "code",
   "execution_count": 22,
   "id": "c9fbeba9-e5f9-421d-9ed8-22ac0124ff8b",
   "metadata": {},
   "outputs": [],
   "source": [
    "#remove incorrect ratings\n",
    "df.loc[df['rating'].isin(incorr_rating), 'rating'] = np.nan"
   ]
  },
  {
   "cell_type": "code",
   "execution_count": 23,
   "id": "ccb63e50-2f2f-4fdc-bd05-f02f68776011",
   "metadata": {},
   "outputs": [
    {
     "data": {
      "text/plain": [
       "array(['PG-13', 'TV-MA', 'PG', 'TV-14', 'TV-PG', 'TV-Y', 'TV-Y7', 'R',\n",
       "       'TV-G', 'G', 'NC-17', nan, 'NR', 'TV-Y7-FV', 'UR'], dtype=object)"
      ]
     },
     "execution_count": 23,
     "metadata": {},
     "output_type": "execute_result"
    }
   ],
   "source": [
    "#running this command again to check if they are removed\n",
    "total_ratings = df['rating'].unique()\n",
    "total_ratings"
   ]
  },
  {
   "cell_type": "code",
   "execution_count": 14,
   "id": "c1cc12c2-9b6b-475c-9786-78fb650217f7",
   "metadata": {},
   "outputs": [],
   "source": [
    "#remove unsupported dates\n",
    "#try to convert all date_added cells to specific format, and the ones that cannot be converted are set to NaN\n",
    "df['date_added'] = pd.to_datetime(df['date_added'], format='%d-%b-%y', errors='coerce')\n",
    "\n",
    "df[\"date_added\"] = df['date_added'].where(pd.notna(df['date_added']), np.nan)"
   ]
  },
  {
   "cell_type": "code",
   "execution_count": 24,
   "id": "a9df5571-9368-407c-8ffc-9a601e41b86e",
   "metadata": {},
   "outputs": [
    {
     "data": {
      "text/plain": [
       "0       September 25, 2021\n",
       "1       September 24, 2021\n",
       "2       September 24, 2021\n",
       "3       September 24, 2021\n",
       "4       September 24, 2021\n",
       "               ...        \n",
       "8802     November 20, 2019\n",
       "8803          July 1, 2019\n",
       "8804      November 1, 2019\n",
       "8805      January 11, 2020\n",
       "8806         March 2, 2019\n",
       "Name: date_added, Length: 8807, dtype: object"
      ]
     },
     "execution_count": 24,
     "metadata": {},
     "output_type": "execute_result"
    }
   ],
   "source": [
    "df['date_added']"
   ]
  },
  {
   "cell_type": "code",
   "execution_count": 28,
   "id": "df75e286-67c3-43e2-b2d2-a6a4fcb56bd9",
   "metadata": {},
   "outputs": [],
   "source": [
    "#drop the 'description' column since we dont need it for our analysis\n",
    "df.drop(columns=['description'], inplace=True)"
   ]
  },
  {
   "cell_type": "code",
   "execution_count": null,
   "id": "80c1929f-56c1-4d60-a8f8-e2e11068a4b7",
   "metadata": {},
   "outputs": [],
   "source": []
  },
  {
   "cell_type": "code",
   "execution_count": null,
   "id": "5f0da1c7-6f30-4f33-a02f-c3c7cbc42a5d",
   "metadata": {},
   "outputs": [],
   "source": []
  }
 ],
 "metadata": {
  "kernelspec": {
   "display_name": "Python 3 (ipykernel)",
   "language": "python",
   "name": "python3"
  },
  "language_info": {
   "codemirror_mode": {
    "name": "ipython",
    "version": 3
   },
   "file_extension": ".py",
   "mimetype": "text/x-python",
   "name": "python",
   "nbconvert_exporter": "python",
   "pygments_lexer": "ipython3",
   "version": "3.12.0"
  }
 },
 "nbformat": 4,
 "nbformat_minor": 5
}
